{
 "cells": [
  {
   "cell_type": "code",
   "execution_count": 1,
   "id": "672cae7a-71bd-438f-88d8-d9ec9068111b",
   "metadata": {
    "tags": []
   },
   "outputs": [],
   "source": [
    "#!pip install tensorflow"
   ]
  },
  {
   "cell_type": "code",
   "execution_count": 2,
   "id": "a335b984-99bf-4db8-834d-e42f3be070bc",
   "metadata": {},
   "outputs": [],
   "source": [
    "import tensorflow as tf\n",
    "import pandas as pd\n",
    "import numpy as np\n",
    "import matplotlib.pyplot as plt"
   ]
  },
  {
   "cell_type": "code",
   "execution_count": 3,
   "id": "baf88751-b1d4-4b0a-8526-152ff43110b0",
   "metadata": {},
   "outputs": [
    {
     "name": "stdout",
     "output_type": "stream",
     "text": [
      "2.12.0\n"
     ]
    }
   ],
   "source": [
    "print(tf.__version__)"
   ]
  },
  {
   "cell_type": "code",
   "execution_count": 4,
   "id": "ef6fa30c-9eb8-40ef-b377-8fec49020e97",
   "metadata": {},
   "outputs": [
    {
     "data": {
      "text/html": [
       "<div>\n",
       "<style scoped>\n",
       "    .dataframe tbody tr th:only-of-type {\n",
       "        vertical-align: middle;\n",
       "    }\n",
       "\n",
       "    .dataframe tbody tr th {\n",
       "        vertical-align: top;\n",
       "    }\n",
       "\n",
       "    .dataframe thead th {\n",
       "        text-align: right;\n",
       "    }\n",
       "</style>\n",
       "<table border=\"1\" class=\"dataframe\">\n",
       "  <thead>\n",
       "    <tr style=\"text-align: right;\">\n",
       "      <th></th>\n",
       "      <th>RowNumber</th>\n",
       "      <th>CustomerId</th>\n",
       "      <th>Surname</th>\n",
       "      <th>CreditScore</th>\n",
       "      <th>Geography</th>\n",
       "      <th>Gender</th>\n",
       "      <th>Age</th>\n",
       "      <th>Tenure</th>\n",
       "      <th>Balance</th>\n",
       "      <th>NumOfProducts</th>\n",
       "      <th>HasCrCard</th>\n",
       "      <th>IsActiveMember</th>\n",
       "      <th>EstimatedSalary</th>\n",
       "      <th>Exited</th>\n",
       "    </tr>\n",
       "  </thead>\n",
       "  <tbody>\n",
       "    <tr>\n",
       "      <th>0</th>\n",
       "      <td>1</td>\n",
       "      <td>15634602</td>\n",
       "      <td>Hargrave</td>\n",
       "      <td>619</td>\n",
       "      <td>France</td>\n",
       "      <td>Female</td>\n",
       "      <td>42</td>\n",
       "      <td>2</td>\n",
       "      <td>0.00</td>\n",
       "      <td>1</td>\n",
       "      <td>1</td>\n",
       "      <td>1</td>\n",
       "      <td>101348.88</td>\n",
       "      <td>1</td>\n",
       "    </tr>\n",
       "    <tr>\n",
       "      <th>1</th>\n",
       "      <td>2</td>\n",
       "      <td>15647311</td>\n",
       "      <td>Hill</td>\n",
       "      <td>608</td>\n",
       "      <td>Spain</td>\n",
       "      <td>Female</td>\n",
       "      <td>41</td>\n",
       "      <td>1</td>\n",
       "      <td>83807.86</td>\n",
       "      <td>1</td>\n",
       "      <td>0</td>\n",
       "      <td>1</td>\n",
       "      <td>112542.58</td>\n",
       "      <td>0</td>\n",
       "    </tr>\n",
       "    <tr>\n",
       "      <th>2</th>\n",
       "      <td>3</td>\n",
       "      <td>15619304</td>\n",
       "      <td>Onio</td>\n",
       "      <td>502</td>\n",
       "      <td>France</td>\n",
       "      <td>Female</td>\n",
       "      <td>42</td>\n",
       "      <td>8</td>\n",
       "      <td>159660.80</td>\n",
       "      <td>3</td>\n",
       "      <td>1</td>\n",
       "      <td>0</td>\n",
       "      <td>113931.57</td>\n",
       "      <td>1</td>\n",
       "    </tr>\n",
       "    <tr>\n",
       "      <th>3</th>\n",
       "      <td>4</td>\n",
       "      <td>15701354</td>\n",
       "      <td>Boni</td>\n",
       "      <td>699</td>\n",
       "      <td>France</td>\n",
       "      <td>Female</td>\n",
       "      <td>39</td>\n",
       "      <td>1</td>\n",
       "      <td>0.00</td>\n",
       "      <td>2</td>\n",
       "      <td>0</td>\n",
       "      <td>0</td>\n",
       "      <td>93826.63</td>\n",
       "      <td>0</td>\n",
       "    </tr>\n",
       "    <tr>\n",
       "      <th>4</th>\n",
       "      <td>5</td>\n",
       "      <td>15737888</td>\n",
       "      <td>Mitchell</td>\n",
       "      <td>850</td>\n",
       "      <td>Spain</td>\n",
       "      <td>Female</td>\n",
       "      <td>43</td>\n",
       "      <td>2</td>\n",
       "      <td>125510.82</td>\n",
       "      <td>1</td>\n",
       "      <td>1</td>\n",
       "      <td>1</td>\n",
       "      <td>79084.10</td>\n",
       "      <td>0</td>\n",
       "    </tr>\n",
       "  </tbody>\n",
       "</table>\n",
       "</div>"
      ],
      "text/plain": [
       "   RowNumber  CustomerId   Surname  CreditScore Geography  Gender  Age  \\\n",
       "0          1    15634602  Hargrave          619    France  Female   42   \n",
       "1          2    15647311      Hill          608     Spain  Female   41   \n",
       "2          3    15619304      Onio          502    France  Female   42   \n",
       "3          4    15701354      Boni          699    France  Female   39   \n",
       "4          5    15737888  Mitchell          850     Spain  Female   43   \n",
       "\n",
       "   Tenure    Balance  NumOfProducts  HasCrCard  IsActiveMember  \\\n",
       "0       2       0.00              1          1               1   \n",
       "1       1   83807.86              1          0               1   \n",
       "2       8  159660.80              3          1               0   \n",
       "3       1       0.00              2          0               0   \n",
       "4       2  125510.82              1          1               1   \n",
       "\n",
       "   EstimatedSalary  Exited  \n",
       "0        101348.88       1  \n",
       "1        112542.58       0  \n",
       "2        113931.57       1  \n",
       "3         93826.63       0  \n",
       "4         79084.10       0  "
      ]
     },
     "execution_count": 4,
     "metadata": {},
     "output_type": "execute_result"
    }
   ],
   "source": [
    "df = pd.read_csv('Churn_Modelling.csv')\n",
    "df.head()"
   ]
  },
  {
   "cell_type": "code",
   "execution_count": 5,
   "id": "f0f6e69f-8fd9-42bb-8413-55d7e50a6397",
   "metadata": {},
   "outputs": [
    {
     "data": {
      "text/plain": [
       "(10000, 14)"
      ]
     },
     "execution_count": 5,
     "metadata": {},
     "output_type": "execute_result"
    }
   ],
   "source": [
    "df.shape"
   ]
  },
  {
   "cell_type": "code",
   "execution_count": 6,
   "id": "a84c8164-bd56-4ded-a2be-61db9440be13",
   "metadata": {},
   "outputs": [
    {
     "data": {
      "text/plain": [
       "RowNumber          0\n",
       "CustomerId         0\n",
       "Surname            0\n",
       "CreditScore        0\n",
       "Geography          0\n",
       "Gender             0\n",
       "Age                0\n",
       "Tenure             0\n",
       "Balance            0\n",
       "NumOfProducts      0\n",
       "HasCrCard          0\n",
       "IsActiveMember     0\n",
       "EstimatedSalary    0\n",
       "Exited             0\n",
       "dtype: int64"
      ]
     },
     "execution_count": 6,
     "metadata": {},
     "output_type": "execute_result"
    }
   ],
   "source": [
    "df.isna().sum()"
   ]
  },
  {
   "cell_type": "code",
   "execution_count": 7,
   "id": "84ce36e2-7d61-479d-836b-0724c303702f",
   "metadata": {},
   "outputs": [
    {
     "name": "stdout",
     "output_type": "stream",
     "text": [
      "Geography\n",
      "Gender\n",
      "NumOfProducts\n",
      "HasCrCard\n",
      "IsActiveMember\n",
      "Exited\n"
     ]
    }
   ],
   "source": [
    "## Prints the categorical columns\n",
    "for i in df.columns:\n",
    "    if df[i].nunique() <= 10:\n",
    "        print(i)"
   ]
  },
  {
   "cell_type": "code",
   "execution_count": 8,
   "id": "7eb04810-899a-446a-b0c5-eadd9ba345e1",
   "metadata": {},
   "outputs": [],
   "source": [
    "X = df.iloc[:,3:13]\n",
    "y = df.iloc[:,13]"
   ]
  },
  {
   "cell_type": "code",
   "execution_count": 9,
   "id": "07d3a886-c341-464d-9cdd-067638c3f949",
   "metadata": {},
   "outputs": [
    {
     "data": {
      "text/html": [
       "<div>\n",
       "<style scoped>\n",
       "    .dataframe tbody tr th:only-of-type {\n",
       "        vertical-align: middle;\n",
       "    }\n",
       "\n",
       "    .dataframe tbody tr th {\n",
       "        vertical-align: top;\n",
       "    }\n",
       "\n",
       "    .dataframe thead th {\n",
       "        text-align: right;\n",
       "    }\n",
       "</style>\n",
       "<table border=\"1\" class=\"dataframe\">\n",
       "  <thead>\n",
       "    <tr style=\"text-align: right;\">\n",
       "      <th></th>\n",
       "      <th>CreditScore</th>\n",
       "      <th>Geography</th>\n",
       "      <th>Gender</th>\n",
       "      <th>Age</th>\n",
       "      <th>Tenure</th>\n",
       "      <th>Balance</th>\n",
       "      <th>NumOfProducts</th>\n",
       "      <th>HasCrCard</th>\n",
       "      <th>IsActiveMember</th>\n",
       "      <th>EstimatedSalary</th>\n",
       "    </tr>\n",
       "  </thead>\n",
       "  <tbody>\n",
       "    <tr>\n",
       "      <th>0</th>\n",
       "      <td>619</td>\n",
       "      <td>France</td>\n",
       "      <td>Female</td>\n",
       "      <td>42</td>\n",
       "      <td>2</td>\n",
       "      <td>0.00</td>\n",
       "      <td>1</td>\n",
       "      <td>1</td>\n",
       "      <td>1</td>\n",
       "      <td>101348.88</td>\n",
       "    </tr>\n",
       "    <tr>\n",
       "      <th>1</th>\n",
       "      <td>608</td>\n",
       "      <td>Spain</td>\n",
       "      <td>Female</td>\n",
       "      <td>41</td>\n",
       "      <td>1</td>\n",
       "      <td>83807.86</td>\n",
       "      <td>1</td>\n",
       "      <td>0</td>\n",
       "      <td>1</td>\n",
       "      <td>112542.58</td>\n",
       "    </tr>\n",
       "    <tr>\n",
       "      <th>2</th>\n",
       "      <td>502</td>\n",
       "      <td>France</td>\n",
       "      <td>Female</td>\n",
       "      <td>42</td>\n",
       "      <td>8</td>\n",
       "      <td>159660.80</td>\n",
       "      <td>3</td>\n",
       "      <td>1</td>\n",
       "      <td>0</td>\n",
       "      <td>113931.57</td>\n",
       "    </tr>\n",
       "    <tr>\n",
       "      <th>3</th>\n",
       "      <td>699</td>\n",
       "      <td>France</td>\n",
       "      <td>Female</td>\n",
       "      <td>39</td>\n",
       "      <td>1</td>\n",
       "      <td>0.00</td>\n",
       "      <td>2</td>\n",
       "      <td>0</td>\n",
       "      <td>0</td>\n",
       "      <td>93826.63</td>\n",
       "    </tr>\n",
       "    <tr>\n",
       "      <th>4</th>\n",
       "      <td>850</td>\n",
       "      <td>Spain</td>\n",
       "      <td>Female</td>\n",
       "      <td>43</td>\n",
       "      <td>2</td>\n",
       "      <td>125510.82</td>\n",
       "      <td>1</td>\n",
       "      <td>1</td>\n",
       "      <td>1</td>\n",
       "      <td>79084.10</td>\n",
       "    </tr>\n",
       "    <tr>\n",
       "      <th>...</th>\n",
       "      <td>...</td>\n",
       "      <td>...</td>\n",
       "      <td>...</td>\n",
       "      <td>...</td>\n",
       "      <td>...</td>\n",
       "      <td>...</td>\n",
       "      <td>...</td>\n",
       "      <td>...</td>\n",
       "      <td>...</td>\n",
       "      <td>...</td>\n",
       "    </tr>\n",
       "    <tr>\n",
       "      <th>9995</th>\n",
       "      <td>771</td>\n",
       "      <td>France</td>\n",
       "      <td>Male</td>\n",
       "      <td>39</td>\n",
       "      <td>5</td>\n",
       "      <td>0.00</td>\n",
       "      <td>2</td>\n",
       "      <td>1</td>\n",
       "      <td>0</td>\n",
       "      <td>96270.64</td>\n",
       "    </tr>\n",
       "    <tr>\n",
       "      <th>9996</th>\n",
       "      <td>516</td>\n",
       "      <td>France</td>\n",
       "      <td>Male</td>\n",
       "      <td>35</td>\n",
       "      <td>10</td>\n",
       "      <td>57369.61</td>\n",
       "      <td>1</td>\n",
       "      <td>1</td>\n",
       "      <td>1</td>\n",
       "      <td>101699.77</td>\n",
       "    </tr>\n",
       "    <tr>\n",
       "      <th>9997</th>\n",
       "      <td>709</td>\n",
       "      <td>France</td>\n",
       "      <td>Female</td>\n",
       "      <td>36</td>\n",
       "      <td>7</td>\n",
       "      <td>0.00</td>\n",
       "      <td>1</td>\n",
       "      <td>0</td>\n",
       "      <td>1</td>\n",
       "      <td>42085.58</td>\n",
       "    </tr>\n",
       "    <tr>\n",
       "      <th>9998</th>\n",
       "      <td>772</td>\n",
       "      <td>Germany</td>\n",
       "      <td>Male</td>\n",
       "      <td>42</td>\n",
       "      <td>3</td>\n",
       "      <td>75075.31</td>\n",
       "      <td>2</td>\n",
       "      <td>1</td>\n",
       "      <td>0</td>\n",
       "      <td>92888.52</td>\n",
       "    </tr>\n",
       "    <tr>\n",
       "      <th>9999</th>\n",
       "      <td>792</td>\n",
       "      <td>France</td>\n",
       "      <td>Female</td>\n",
       "      <td>28</td>\n",
       "      <td>4</td>\n",
       "      <td>130142.79</td>\n",
       "      <td>1</td>\n",
       "      <td>1</td>\n",
       "      <td>0</td>\n",
       "      <td>38190.78</td>\n",
       "    </tr>\n",
       "  </tbody>\n",
       "</table>\n",
       "<p>10000 rows × 10 columns</p>\n",
       "</div>"
      ],
      "text/plain": [
       "      CreditScore Geography  Gender  Age  Tenure    Balance  NumOfProducts  \\\n",
       "0             619    France  Female   42       2       0.00              1   \n",
       "1             608     Spain  Female   41       1   83807.86              1   \n",
       "2             502    France  Female   42       8  159660.80              3   \n",
       "3             699    France  Female   39       1       0.00              2   \n",
       "4             850     Spain  Female   43       2  125510.82              1   \n",
       "...           ...       ...     ...  ...     ...        ...            ...   \n",
       "9995          771    France    Male   39       5       0.00              2   \n",
       "9996          516    France    Male   35      10   57369.61              1   \n",
       "9997          709    France  Female   36       7       0.00              1   \n",
       "9998          772   Germany    Male   42       3   75075.31              2   \n",
       "9999          792    France  Female   28       4  130142.79              1   \n",
       "\n",
       "      HasCrCard  IsActiveMember  EstimatedSalary  \n",
       "0             1               1        101348.88  \n",
       "1             0               1        112542.58  \n",
       "2             1               0        113931.57  \n",
       "3             0               0         93826.63  \n",
       "4             1               1         79084.10  \n",
       "...         ...             ...              ...  \n",
       "9995          1               0         96270.64  \n",
       "9996          1               1        101699.77  \n",
       "9997          0               1         42085.58  \n",
       "9998          1               0         92888.52  \n",
       "9999          1               0         38190.78  \n",
       "\n",
       "[10000 rows x 10 columns]"
      ]
     },
     "execution_count": 9,
     "metadata": {},
     "output_type": "execute_result"
    }
   ],
   "source": [
    "X"
   ]
  },
  {
   "cell_type": "code",
   "execution_count": 10,
   "id": "e875421a-5a54-48bf-be45-33122abc5411",
   "metadata": {},
   "outputs": [],
   "source": [
    "gender = pd.get_dummies(df.Gender, drop_first=True)\n",
    "geography = pd.get_dummies(df.Geography, drop_first=True)"
   ]
  },
  {
   "cell_type": "code",
   "execution_count": 11,
   "id": "ee8e5aeb-a4a3-44de-8a34-a612da9287a4",
   "metadata": {},
   "outputs": [],
   "source": [
    "X.drop(['Geography','Gender'], axis =1, inplace=True)"
   ]
  },
  {
   "cell_type": "code",
   "execution_count": 12,
   "id": "478abe68-3101-4c5b-bbd0-a751c1703306",
   "metadata": {},
   "outputs": [],
   "source": [
    "X = pd.concat((X,geography,gender),axis=1)"
   ]
  },
  {
   "cell_type": "code",
   "execution_count": 13,
   "id": "bb116e86-a924-4aba-aae3-6c0a28b024fa",
   "metadata": {},
   "outputs": [],
   "source": [
    "from sklearn.model_selection import train_test_split\n",
    "x_train,x_test,y_train,y_test = train_test_split(X,y,test_size=0.20, random_state=0)"
   ]
  },
  {
   "cell_type": "code",
   "execution_count": 14,
   "id": "5bab4295-982e-4fa0-a052-fc0ea342bdcd",
   "metadata": {},
   "outputs": [],
   "source": [
    "from sklearn.preprocessing import StandardScaler\n",
    "scaler = StandardScaler()\n",
    "x_train = scaler.fit_transform(x_train)\n",
    "x_test = scaler.transform(x_test)"
   ]
  },
  {
   "cell_type": "code",
   "execution_count": 15,
   "id": "3fb50456-c436-48a7-8aef-8a88df6314bc",
   "metadata": {},
   "outputs": [],
   "source": [
    "from tensorflow.keras.activations import elu,relu,sigmoid\n",
    "from tensorflow.keras.callbacks import EarlyStopping\n",
    "from tensorflow.keras.models import Sequential\n",
    "from tensorflow.keras.layers import Dense,Dropout"
   ]
  },
  {
   "cell_type": "code",
   "execution_count": 16,
   "id": "81382503-eb81-4173-9dba-2f0601712ae2",
   "metadata": {},
   "outputs": [],
   "source": [
    "classifier = Sequential()"
   ]
  },
  {
   "cell_type": "code",
   "execution_count": 17,
   "id": "e1089d75-5d3e-45d7-b3f3-1c5415b95411",
   "metadata": {},
   "outputs": [],
   "source": [
    "#Adding input layer\n",
    "classifier.add(Dense(units=11, activation=relu))"
   ]
  },
  {
   "cell_type": "code",
   "execution_count": 18,
   "id": "67714bd3-d49c-4a55-b833-76cf805bcf14",
   "metadata": {},
   "outputs": [],
   "source": [
    "#Adding hidden layer 1\n",
    "classifier.add(Dense(units=7, activation=relu))"
   ]
  },
  {
   "cell_type": "code",
   "execution_count": 19,
   "id": "5042e0f7-1fc7-47ed-aa69-c2244b05f564",
   "metadata": {},
   "outputs": [],
   "source": [
    "#Adding hidden layer 2\n",
    "classifier.add(Dense(units=6, activation=relu))\n",
    "classifier.add(Dropout(0.2)) #makes 20% neurons as dead neurons"
   ]
  },
  {
   "cell_type": "code",
   "execution_count": 20,
   "id": "91e4c656-a774-4b50-a82f-21f2cbca0531",
   "metadata": {},
   "outputs": [],
   "source": [
    "#Adding output layer\n",
    "classifier.add(Dense(units=1, activation=sigmoid))"
   ]
  },
  {
   "cell_type": "code",
   "execution_count": 21,
   "id": "0d2ef982-3eb2-4863-9e28-5e9bfee6ca28",
   "metadata": {},
   "outputs": [],
   "source": [
    "classifier.compile(optimizer='adam',metrics=['accuracy'], loss='binary_crossentropy')"
   ]
  },
  {
   "cell_type": "code",
   "execution_count": 22,
   "id": "4830f649-1c57-49e3-8456-d894c4e7e143",
   "metadata": {
    "tags": []
   },
   "outputs": [],
   "source": [
    "#Without early stopping\n",
    "#model = classifier.fit(x_train,y_train,validation_split=0.30,epochs=100)"
   ]
  },
  {
   "cell_type": "code",
   "execution_count": 23,
   "id": "795ce64e-ef84-40c8-afd1-908dfbdf17eb",
   "metadata": {},
   "outputs": [],
   "source": [
    "early_stopping = EarlyStopping(monitor='val_loss',\n",
    "    min_delta=0.0001,\n",
    "    patience=20,\n",
    "    verbose=1,\n",
    "    mode='auto',\n",
    "    baseline=None,\n",
    "    restore_best_weights=False)"
   ]
  },
  {
   "cell_type": "code",
   "execution_count": 24,
   "id": "4ad8c6d6-e0db-44b6-b2e5-cd3944f9e683",
   "metadata": {},
   "outputs": [
    {
     "name": "stdout",
     "output_type": "stream",
     "text": [
      "Epoch 1/1000\n",
      "536/536 [==============================] - 2s 2ms/step - loss: 0.5795 - accuracy: 0.7343 - val_loss: 0.4832 - val_accuracy: 0.7955\n",
      "Epoch 2/1000\n",
      "536/536 [==============================] - 1s 1ms/step - loss: 0.4711 - accuracy: 0.7953 - val_loss: 0.4501 - val_accuracy: 0.7955\n",
      "Epoch 3/1000\n",
      "536/536 [==============================] - 1s 1ms/step - loss: 0.4438 - accuracy: 0.7962 - val_loss: 0.4351 - val_accuracy: 0.7955\n",
      "Epoch 4/1000\n",
      "536/536 [==============================] - 1s 2ms/step - loss: 0.4286 - accuracy: 0.7962 - val_loss: 0.4276 - val_accuracy: 0.7955\n",
      "Epoch 5/1000\n",
      "536/536 [==============================] - 1s 2ms/step - loss: 0.4202 - accuracy: 0.7960 - val_loss: 0.4197 - val_accuracy: 0.7955\n",
      "Epoch 6/1000\n",
      "536/536 [==============================] - 1s 1ms/step - loss: 0.4161 - accuracy: 0.7962 - val_loss: 0.4088 - val_accuracy: 0.7955\n",
      "Epoch 7/1000\n",
      "536/536 [==============================] - 1s 1ms/step - loss: 0.4017 - accuracy: 0.7962 - val_loss: 0.4025 - val_accuracy: 0.7955\n",
      "Epoch 8/1000\n",
      "536/536 [==============================] - 1s 1ms/step - loss: 0.3983 - accuracy: 0.7962 - val_loss: 0.3964 - val_accuracy: 0.7955\n",
      "Epoch 9/1000\n",
      "536/536 [==============================] - 1s 1ms/step - loss: 0.3954 - accuracy: 0.8020 - val_loss: 0.3916 - val_accuracy: 0.8254\n",
      "Epoch 10/1000\n",
      "536/536 [==============================] - 1s 1ms/step - loss: 0.3834 - accuracy: 0.8306 - val_loss: 0.3873 - val_accuracy: 0.8360\n",
      "Epoch 11/1000\n",
      "536/536 [==============================] - 1s 1ms/step - loss: 0.3824 - accuracy: 0.8446 - val_loss: 0.3832 - val_accuracy: 0.8451\n",
      "Epoch 12/1000\n",
      "536/536 [==============================] - 1s 2ms/step - loss: 0.3789 - accuracy: 0.8545 - val_loss: 0.3813 - val_accuracy: 0.8440\n",
      "Epoch 13/1000\n",
      "536/536 [==============================] - 1s 1ms/step - loss: 0.3730 - accuracy: 0.8531 - val_loss: 0.3801 - val_accuracy: 0.8459\n",
      "Epoch 14/1000\n",
      "536/536 [==============================] - 1s 1ms/step - loss: 0.3700 - accuracy: 0.8548 - val_loss: 0.3812 - val_accuracy: 0.8444\n",
      "Epoch 15/1000\n",
      "536/536 [==============================] - 1s 1ms/step - loss: 0.3704 - accuracy: 0.8543 - val_loss: 0.3763 - val_accuracy: 0.8493\n",
      "Epoch 16/1000\n",
      "536/536 [==============================] - 1s 1ms/step - loss: 0.3663 - accuracy: 0.8567 - val_loss: 0.3753 - val_accuracy: 0.8501\n",
      "Epoch 17/1000\n",
      "536/536 [==============================] - 1s 1ms/step - loss: 0.3674 - accuracy: 0.8587 - val_loss: 0.3772 - val_accuracy: 0.8485\n",
      "Epoch 18/1000\n",
      "536/536 [==============================] - 1s 1ms/step - loss: 0.3657 - accuracy: 0.8567 - val_loss: 0.3727 - val_accuracy: 0.8504\n",
      "Epoch 19/1000\n",
      "536/536 [==============================] - 1s 1ms/step - loss: 0.3651 - accuracy: 0.8569 - val_loss: 0.3743 - val_accuracy: 0.8489\n",
      "Epoch 20/1000\n",
      "536/536 [==============================] - 1s 2ms/step - loss: 0.3604 - accuracy: 0.8569 - val_loss: 0.3749 - val_accuracy: 0.8463\n",
      "Epoch 21/1000\n",
      "536/536 [==============================] - 1s 2ms/step - loss: 0.3590 - accuracy: 0.8589 - val_loss: 0.3736 - val_accuracy: 0.8485\n",
      "Epoch 22/1000\n",
      "536/536 [==============================] - 1s 1ms/step - loss: 0.3608 - accuracy: 0.8602 - val_loss: 0.3711 - val_accuracy: 0.8535\n",
      "Epoch 23/1000\n",
      "536/536 [==============================] - 1s 1ms/step - loss: 0.3589 - accuracy: 0.8589 - val_loss: 0.3723 - val_accuracy: 0.8512\n",
      "Epoch 24/1000\n",
      "536/536 [==============================] - 1s 2ms/step - loss: 0.3590 - accuracy: 0.8550 - val_loss: 0.3717 - val_accuracy: 0.8538\n",
      "Epoch 25/1000\n",
      "536/536 [==============================] - 1s 2ms/step - loss: 0.3585 - accuracy: 0.8584 - val_loss: 0.3706 - val_accuracy: 0.8546\n",
      "Epoch 26/1000\n",
      "536/536 [==============================] - 1s 2ms/step - loss: 0.3610 - accuracy: 0.8634 - val_loss: 0.3711 - val_accuracy: 0.8576\n",
      "Epoch 27/1000\n",
      "536/536 [==============================] - 1s 1ms/step - loss: 0.3560 - accuracy: 0.8614 - val_loss: 0.3733 - val_accuracy: 0.8504\n",
      "Epoch 28/1000\n",
      "536/536 [==============================] - 1s 1ms/step - loss: 0.3610 - accuracy: 0.8599 - val_loss: 0.3726 - val_accuracy: 0.8516\n",
      "Epoch 29/1000\n",
      "536/536 [==============================] - 1s 2ms/step - loss: 0.3546 - accuracy: 0.8599 - val_loss: 0.3767 - val_accuracy: 0.8497\n",
      "Epoch 30/1000\n",
      "536/536 [==============================] - 1s 1ms/step - loss: 0.3555 - accuracy: 0.8595 - val_loss: 0.3713 - val_accuracy: 0.8538\n",
      "Epoch 31/1000\n",
      "536/536 [==============================] - 1s 1ms/step - loss: 0.3584 - accuracy: 0.8593 - val_loss: 0.3715 - val_accuracy: 0.8508\n",
      "Epoch 32/1000\n",
      "536/536 [==============================] - 1s 2ms/step - loss: 0.3543 - accuracy: 0.8610 - val_loss: 0.3704 - val_accuracy: 0.8550\n",
      "Epoch 33/1000\n",
      "536/536 [==============================] - 1s 2ms/step - loss: 0.3599 - accuracy: 0.8589 - val_loss: 0.3711 - val_accuracy: 0.8527\n",
      "Epoch 34/1000\n",
      "536/536 [==============================] - 1s 1ms/step - loss: 0.3559 - accuracy: 0.8567 - val_loss: 0.3712 - val_accuracy: 0.8538\n",
      "Epoch 35/1000\n",
      "536/536 [==============================] - 1s 1ms/step - loss: 0.3569 - accuracy: 0.8600 - val_loss: 0.3730 - val_accuracy: 0.8493\n",
      "Epoch 36/1000\n",
      "536/536 [==============================] - 1s 1ms/step - loss: 0.3550 - accuracy: 0.8586 - val_loss: 0.3717 - val_accuracy: 0.8535\n",
      "Epoch 37/1000\n",
      "536/536 [==============================] - 1s 1ms/step - loss: 0.3559 - accuracy: 0.8591 - val_loss: 0.3865 - val_accuracy: 0.8504\n",
      "Epoch 38/1000\n",
      "536/536 [==============================] - 1s 1ms/step - loss: 0.3554 - accuracy: 0.8582 - val_loss: 0.3722 - val_accuracy: 0.8516\n",
      "Epoch 39/1000\n",
      "536/536 [==============================] - 1s 2ms/step - loss: 0.3550 - accuracy: 0.8602 - val_loss: 0.3732 - val_accuracy: 0.8508\n",
      "Epoch 40/1000\n",
      "536/536 [==============================] - 1s 2ms/step - loss: 0.3575 - accuracy: 0.8586 - val_loss: 0.3720 - val_accuracy: 0.8501\n",
      "Epoch 41/1000\n",
      "536/536 [==============================] - 1s 2ms/step - loss: 0.3511 - accuracy: 0.8612 - val_loss: 0.3758 - val_accuracy: 0.8489\n",
      "Epoch 42/1000\n",
      "536/536 [==============================] - 1s 2ms/step - loss: 0.3555 - accuracy: 0.8595 - val_loss: 0.3736 - val_accuracy: 0.8538\n",
      "Epoch 43/1000\n",
      "536/536 [==============================] - 1s 1ms/step - loss: 0.3527 - accuracy: 0.8582 - val_loss: 0.3768 - val_accuracy: 0.8497\n",
      "Epoch 44/1000\n",
      "536/536 [==============================] - 1s 1ms/step - loss: 0.3539 - accuracy: 0.8599 - val_loss: 0.3740 - val_accuracy: 0.8535\n",
      "Epoch 45/1000\n",
      "536/536 [==============================] - 1s 2ms/step - loss: 0.3504 - accuracy: 0.8621 - val_loss: 0.3751 - val_accuracy: 0.8527\n",
      "Epoch 46/1000\n",
      "536/536 [==============================] - 1s 1ms/step - loss: 0.3536 - accuracy: 0.8630 - val_loss: 0.3782 - val_accuracy: 0.8512\n",
      "Epoch 47/1000\n",
      "536/536 [==============================] - 1s 1ms/step - loss: 0.3497 - accuracy: 0.8642 - val_loss: 0.3773 - val_accuracy: 0.8504\n",
      "Epoch 48/1000\n",
      "536/536 [==============================] - 1s 1ms/step - loss: 0.3546 - accuracy: 0.8569 - val_loss: 0.3767 - val_accuracy: 0.8504\n",
      "Epoch 49/1000\n",
      "536/536 [==============================] - 1s 1ms/step - loss: 0.3496 - accuracy: 0.8599 - val_loss: 0.3734 - val_accuracy: 0.8527\n",
      "Epoch 50/1000\n",
      "536/536 [==============================] - 1s 2ms/step - loss: 0.3469 - accuracy: 0.8634 - val_loss: 0.3762 - val_accuracy: 0.8508\n",
      "Epoch 51/1000\n",
      "536/536 [==============================] - 1s 1ms/step - loss: 0.3485 - accuracy: 0.8610 - val_loss: 0.3754 - val_accuracy: 0.8516\n",
      "Epoch 52/1000\n",
      "536/536 [==============================] - 1s 1ms/step - loss: 0.3498 - accuracy: 0.8608 - val_loss: 0.3780 - val_accuracy: 0.8538\n",
      "Epoch 52: early stopping\n"
     ]
    }
   ],
   "source": [
    "#With early stopping\n",
    "model = classifier.fit(x_train,y_train,validation_split=0.33,batch_size=10,epochs=1000, callbacks=early_stopping)"
   ]
  },
  {
   "cell_type": "code",
   "execution_count": 25,
   "id": "d74a59f7-6f03-4202-8b58-440a08194b69",
   "metadata": {},
   "outputs": [
    {
     "data": {
      "text/plain": [
       "dict_keys(['loss', 'accuracy', 'val_loss', 'val_accuracy'])"
      ]
     },
     "execution_count": 25,
     "metadata": {},
     "output_type": "execute_result"
    }
   ],
   "source": [
    "model.history.keys()"
   ]
  },
  {
   "cell_type": "code",
   "execution_count": 26,
   "id": "d657b29e-a9d4-454b-bb31-78d1ca459844",
   "metadata": {},
   "outputs": [
    {
     "data": {
      "text/plain": [
       "<matplotlib.legend.Legend at 0x13319bb5e80>"
      ]
     },
     "execution_count": 26,
     "metadata": {},
     "output_type": "execute_result"
    },
    {
     "data": {
      "image/png": "[encoded data removed]",
      "text/plain": [
       "<Figure size 432x288 with 1 Axes>"
      ]
     },
     "metadata": {
      "needs_background": "light"
     },
     "output_type": "display_data"
    }
   ],
   "source": [
    "plt.plot(model.history['accuracy'])\n",
    "plt.plot(model.history['val_accuracy'])\n",
    "plt.title('Model Accuracy')\n",
    "plt.ylabel('accuracy')\n",
    "plt.xlabel('epoch')\n",
    "plt.legend(['train','test'],loc='upper left')"
   ]
  },
  {
   "cell_type": "code",
   "execution_count": 27,
   "id": "79b262b6-4378-4caf-ac33-3ef182e9c8b6",
   "metadata": {},
   "outputs": [
    {
     "data": {
      "text/plain": [
       "<matplotlib.legend.Legend at 0x13319c05fd0>"
      ]
     },
     "execution_count": 27,
     "metadata": {},
     "output_type": "execute_result"
    },
    {
     "data": {
      "image/png": "[encoded data removed]",
      "text/plain": [
       "<Figure size 432x288 with 1 Axes>"
      ]
     },
     "metadata": {
      "needs_background": "light"
     },
     "output_type": "display_data"
    }
   ],
   "source": [
    "plt.plot(model.history['loss'])\n",
    "plt.plot(model.history['val_loss'])\n",
    "plt.title('Model Loss')\n",
    "plt.ylabel('loss')\n",
    "plt.xlabel('epoch')\n",
    "plt.legend(['train','test'],loc='upper left')"
   ]
  },
  {
   "cell_type": "code",
   "execution_count": 28,
   "id": "e5e5b232-2bd3-4de2-a649-96385095a959",
   "metadata": {},
   "outputs": [
    {
     "name": "stdout",
     "output_type": "stream",
     "text": [
      "63/63 [==============================] - 0s 742us/step\n"
     ]
    }
   ],
   "source": [
    "y_pred = classifier.predict(x_test)\n",
    "y_pred = y_pred >= 0.5"
   ]
  },
  {
   "cell_type": "code",
   "execution_count": 29,
   "id": "c4e5f450-50e3-4883-b2fa-42c0cec23136",
   "metadata": {},
   "outputs": [
    {
     "data": {
      "text/plain": [
       "(array([[1501,   94],\n",
       "        [ 187,  218]], dtype=int64),\n",
       " 0.8595)"
      ]
     },
     "execution_count": 29,
     "metadata": {},
     "output_type": "execute_result"
    }
   ],
   "source": [
    "from sklearn.metrics import confusion_matrix, accuracy_score\n",
    "cm = confusion_matrix(y_test,y_pred)\n",
    "score = accuracy_score(y_test,y_pred)\n",
    "cm,score"
   ]
  },
  {
   "cell_type": "code",
   "execution_count": null,
   "id": "6cd0929c-6f27-48a6-bff9-3b7f19144115",
   "metadata": {},
   "outputs": [],
   "source": []
  }
 ],
 "metadata": {
  "kernelspec": {
   "display_name": "Python 3 (ipykernel)",
   "language": "python",
   "name": "python3"
  },
  "language_info": {
   "codemirror_mode": {
    "name": "ipython",
    "version": 3
   },
   "file_extension": ".py",
   "mimetype": "text/x-python",
   "name": "python",
   "nbconvert_exporter": "python",
   "pygments_lexer": "ipython3",
   "version": "3.12.4"
  }
 },
 "nbformat": 4,
 "nbformat_minor": 5
}
